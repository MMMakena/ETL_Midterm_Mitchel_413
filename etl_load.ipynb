{
 "cells": [
  {
   "cell_type": "code",
   "execution_count": null,
   "id": "fb8d6829",
   "metadata": {},
   "outputs": [],
   "source": [
    "# load necessary libraries\n",
    "import pandas as pd\n",
    "# pip install pyarrow\n",
    "\n",
    "# load the data\n",
    "raw_df= pd.read_csv(r\"C:\\Users\\Makena\\OneDrive\\Desktop\\USIU\\2nd Summer sem\\DWM\\Mid Sem\\Transformed\\transformed_full.csv\")\n",
    "incremental_df = pd.read_csv(r\"C:\\Users\\Makena\\OneDrive\\Desktop\\USIU\\2nd Summer sem\\DWM\\Mid Sem\\Transformed\\transformed_incremental.csv\")"
   ]
  },
  {
   "cell_type": "code",
   "execution_count": 6,
   "id": "64071e4a",
   "metadata": {},
   "outputs": [
    {
     "name": "stdout",
     "output_type": "stream",
     "text": [
      "Dataframes have been successfully saved as parquet files.\n",
      "Preview of transformed_full.parquet:\n",
      "   order_id customer_name  product  quantity  unit_price           order_date  \\\n",
      "0         4           Eve   Laptop       2.0       750.0  2024-01-07 00:00:00   \n",
      "1         7       Charlie  Monitor       2.0       750.0  2024-02-02 00:00:00   \n",
      "2        10           Eve  Monitor       1.0       500.0  2024-02-28 00:00:00   \n",
      "3        12       Charlie   Tablet       2.0       750.0  2024-03-26 00:00:00   \n",
      "4        13         Frank   Tablet       1.0       750.0  2024-04-28 00:00:00   \n",
      "\n",
      "   total_price  \n",
      "0       1500.0  \n",
      "1       1500.0  \n",
      "2        500.0  \n",
      "3       1500.0  \n",
      "4        750.0  \n",
      "\n",
      "Preview of transformed_incremental.parquet:\n",
      "   order_id customer_name product  quantity  unit_price           order_date  \\\n",
      "0       105         Heidi  Tablet       2.0       600.0  2024-05-21 00:00:00   \n",
      "1       109         Grace  Laptop       2.0       600.0  2024-05-29 00:00:00   \n",
      "\n",
      "   total_price  \n",
      "0       1200.0  \n",
      "1       1200.0  \n"
     ]
    }
   ],
   "source": [
    "# Save the dataframes as parquet files\n",
    "raw_df.to_parquet(r\"C:\\Users\\Makena\\OneDrive\\Desktop\\USIU\\2nd Summer sem\\DWM\\Mid Sem\\Loaded\\transformed_full.parquet\", index=False)\n",
    "incremental_df.to_parquet(r\"C:\\Users\\Makena\\OneDrive\\Desktop\\USIU\\2nd Summer sem\\DWM\\Mid Sem\\Loaded\\transformed_incremental.parquet\", index=False)\n",
    "print(\"Dataframes have been successfully saved as parquet files.\")\n",
    "\n",
    "# Preview the stored parquet files\n",
    "raw_df_preview = pd.read_parquet(r\"C:\\Users\\Makena\\OneDrive\\Desktop\\USIU\\2nd Summer sem\\DWM\\Mid Sem\\Loaded\\transformed_full.parquet\")\n",
    "incremental_df_preview = pd.read_parquet(r\"C:\\Users\\Makena\\OneDrive\\Desktop\\USIU\\2nd Summer sem\\DWM\\Mid Sem\\Loaded\\transformed_incremental.parquet\")\n",
    "\n",
    "# Print the first few rows of the previewed dataframes\n",
    "print(\"Preview of transformed_full.parquet:\")  \n",
    "print(raw_df_preview.head())\n",
    "print(\"\\nPreview of transformed_incremental.parquet:\")      \n",
    "print(incremental_df_preview.head())"
   ]
  }
 ],
 "metadata": {
  "kernelspec": {
   "display_name": "Python 3",
   "language": "python",
   "name": "python3"
  },
  "language_info": {
   "codemirror_mode": {
    "name": "ipython",
    "version": 3
   },
   "file_extension": ".py",
   "mimetype": "text/x-python",
   "name": "python",
   "nbconvert_exporter": "python",
   "pygments_lexer": "ipython3",
   "version": "3.11.4"
  }
 },
 "nbformat": 4,
 "nbformat_minor": 5
}
