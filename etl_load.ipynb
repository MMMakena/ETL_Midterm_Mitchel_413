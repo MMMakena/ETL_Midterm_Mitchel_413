{
 "cells": [
  {
   "cell_type": "code",
   "execution_count": 2,
   "id": "fb8d6829",
   "metadata": {},
   "outputs": [],
   "source": [
    "# load necessary libraries\n",
    "import pandas as pd\n",
    "# pip install pyarrow\n",
    "\n",
    "# load the data\n",
    "raw_df= pd.read_csv(\"Transformed/transformed_full.csv\")\n",
    "incremental_df = pd.read_csv(\"Transformed/transformed_incremental.csv\")"
   ]
  },
  {
   "cell_type": "code",
   "execution_count": 5,
   "id": "64071e4a",
   "metadata": {},
   "outputs": [
    {
     "name": "stdout",
     "output_type": "stream",
     "text": [
      "Dataframes have been successfully saved as parquet files.\n",
      "Preview of transformed_full.parquet:\n",
      "   order_id customer_name product  quantity  unit_price           order_date  \\\n",
      "0         1         Diana  Tablet  1.959459       500.0  2024-01-20 00:00:00   \n",
      "1         2           Eve  Laptop  1.959459       500.0  2024-04-29 00:00:00   \n",
      "2         3       Charlie  Laptop  2.000000       250.0  2024-01-08 00:00:00   \n",
      "3         4           Eve  Laptop  2.000000       750.0  2024-01-07 00:00:00   \n",
      "4         5           Eve  Tablet  3.000000       500.0  2024-03-07 00:00:00   \n",
      "\n",
      "   total_price  \n",
      "0    979.72973  \n",
      "1    979.72973  \n",
      "2    500.00000  \n",
      "3   1500.00000  \n",
      "4   1500.00000  \n",
      "\n",
      "Preview of transformed_incremental.parquet:\n",
      "   order_id product  quantity  unit_price           order_date   region  \\\n",
      "0       101  Laptop       1.5       900.0  2024-05-09 00:00:00  Central   \n",
      "1       102  Laptop       1.0       300.0  2024-05-07 00:00:00  Central   \n",
      "2       103  Laptop       1.0       600.0  2024-05-04 00:00:00  Central   \n",
      "3       104  Tablet       1.5       300.0  2024-05-26 00:00:00  Central   \n",
      "4       105  Tablet       2.0       600.0  2024-05-21 00:00:00    North   \n",
      "\n",
      "   total_price  \n",
      "0       1350.0  \n",
      "1        300.0  \n",
      "2        600.0  \n",
      "3        450.0  \n",
      "4       1200.0  \n"
     ]
    }
   ],
   "source": [
    "# Save the dataframes as parquet files\n",
    "raw_df.to_parquet(\"Loaded/transformed_full.parquet\", index=False)\n",
    "incremental_df.to_parquet(\"Loaded/transformed_incremental.parquet\", index=False)\n",
    "print(\"Dataframes have been successfully saved as parquet files.\")\n",
    "\n",
    "# Preview the stored parquet files\n",
    "raw_df_preview = pd.read_parquet(\"Loaded/transformed_full.parquet\")\n",
    "incremental_df_preview = pd.read_parquet(\"Loaded/transformed_incremental.parquet\")\n",
    "\n",
    "# Print the first few rows of the previewed dataframes\n",
    "print(\"Preview of transformed_full.parquet:\")  \n",
    "print(raw_df_preview.head())\n",
    "print(\"\\nPreview of transformed_incremental.parquet:\")      \n",
    "print(incremental_df_preview.head())"
   ]
  }
 ],
 "metadata": {
  "kernelspec": {
   "display_name": "Python 3",
   "language": "python",
   "name": "python3"
  },
  "language_info": {
   "codemirror_mode": {
    "name": "ipython",
    "version": 3
   },
   "file_extension": ".py",
   "mimetype": "text/x-python",
   "name": "python",
   "nbconvert_exporter": "python",
   "pygments_lexer": "ipython3",
   "version": "3.11.4"
  }
 },
 "nbformat": 4,
 "nbformat_minor": 5
}
