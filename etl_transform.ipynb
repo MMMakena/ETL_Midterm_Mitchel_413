{
 "cells": [
  {
   "cell_type": "code",
   "execution_count": 35,
   "id": "512d453f",
   "metadata": {},
   "outputs": [
    {
     "name": "stdout",
     "output_type": "stream",
     "text": [
      "Raw Data:\n",
      "   order_id customer_name product  quantity  unit_price  order_date region\n",
      "0         1         Diana  Tablet       NaN       500.0  2024-01-20  South\n",
      "1         2           Eve  Laptop       NaN         NaN  2024-04-29  North\n",
      "2         3       Charlie  Laptop       2.0       250.0  2024-01-08    NaN\n",
      "3         4           Eve  Laptop       2.0       750.0  2024-01-07   West\n",
      "4         5           Eve  Tablet       3.0         NaN  2024-03-07  South\n",
      "\n",
      "Incremental Data:\n",
      "   order_id customer_name product  quantity  unit_price  order_date   region\n",
      "0       101         Alice  Laptop       NaN       900.0  2024-05-09  Central\n",
      "1       102           NaN  Laptop       1.0       300.0  2024-05-07  Central\n",
      "2       103           NaN  Laptop       1.0       600.0  2024-05-04  Central\n",
      "3       104           NaN  Tablet       NaN       300.0  2024-05-26  Central\n",
      "4       105         Heidi  Tablet       2.0       600.0  2024-05-21    North\n"
     ]
    }
   ],
   "source": [
    "# Load libraries\n",
    "import pandas as pd\n",
    "from datetime import datetime\n",
    "\n",
    "# load the raw data\n",
    "raw_data = pd.read_csv(r\"C:\\Users\\Makena\\OneDrive\\Desktop\\USIU\\2nd Summer sem\\DWM/raw_data.csv\")\n",
    "\n",
    "# load the incremental data\n",
    "incremental_data = pd.read_csv(r\"C:\\Users\\Makena\\OneDrive\\Desktop\\USIU\\2nd Summer sem\\DWM/incremental_data.csv\")\n",
    "\n",
    "print(\"Raw Data:\")\n",
    "print(raw_data.head()) \n",
    "print(\"\\nIncremental Data:\")\n",
    "print(incremental_data.head())"
   ]
  },
  {
   "cell_type": "markdown",
   "id": "8ccb1d72",
   "metadata": {},
   "source": [
    "## Full Transformation "
   ]
  },
  {
   "cell_type": "markdown",
   "id": "49f46670",
   "metadata": {},
   "source": [
    "### Raw Data"
   ]
  },
  {
   "cell_type": "code",
   "execution_count": 40,
   "id": "af5de3e2",
   "metadata": {},
   "outputs": [
    {
     "name": "stdout",
     "output_type": "stream",
     "text": [
      "\n",
      "Missing Values in Raw Data:\n",
      "customer_name     1\n",
      "quantity         26\n",
      "unit_price       35\n",
      "order_date        1\n",
      "region           25\n",
      "dtype: int64\n",
      "\n",
      "Duplicates in Raw Data:\n",
      "1\n",
      "\n",
      "Transformed Raw Data after handling missing values and duplicates:\n",
      "   order_id customer_name product  quantity  unit_price  order_date   region\n",
      "0         1         Diana  Tablet  1.959459       500.0  2024-01-20    South\n",
      "1         2           Eve  Laptop  1.959459       500.0  2024-04-29    North\n",
      "2         3       Charlie  Laptop  2.000000       250.0  2024-01-08  Unknown\n",
      "3         4           Eve  Laptop  2.000000       750.0  2024-01-07     West\n",
      "4         5           Eve  Tablet  3.000000       500.0  2024-03-07    South\n"
     ]
    }
   ],
   "source": [
    "# full transformation on raw data\n",
    "transfromed_rfull_data = raw_data.copy()\n",
    "\n",
    "# Transform 1: Handle missing values and duplicates\n",
    "# checking for missing values\n",
    "missing_values = transfromed_rfull_data.isnull().sum()\n",
    "print(\"\\nMissing Values in Raw Data:\")\n",
    "print(missing_values[missing_values > 0])\n",
    "\n",
    "# checking for duplicates\n",
    "duplicates = transfromed_rfull_data.duplicated().sum()\n",
    "print(\"\\nDuplicates in Raw Data:\")\n",
    "print(duplicates)\n",
    "\n",
    "# fill missing values for categorical columns with 'Unknown'\n",
    "for col in ['customer_name', 'product', 'region']:\n",
    "\ttransfromed_rfull_data[col].fillna('Unknown', inplace=True)\n",
    "\n",
    "# fill missing values for numerical columns with their mean\n",
    "for col in ['quantity', 'unit_price']:\n",
    "\ttransfromed_rfull_data[col].fillna(transfromed_rfull_data[col].mean(), inplace=True)\n",
    "\n",
    "# drop duplicates\n",
    "transfromed_rfull_data.drop_duplicates(inplace=True)\n",
    "print(\"\\nTransformed Raw Data after handling missing values and duplicates:\")\n",
    "print(transfromed_rfull_data.head())\n",
    "  "
   ]
  },
  {
   "cell_type": "code",
   "execution_count": 41,
   "id": "359c3617",
   "metadata": {},
   "outputs": [
    {
     "name": "stdout",
     "output_type": "stream",
     "text": [
      "Total price calculated and added to the dataset.\n",
      "   order_id customer_name product  quantity  unit_price           order_date  \\\n",
      "0         1         Diana  Tablet  1.959459       500.0  2024-01-20 00:00:00   \n",
      "1         2           Eve  Laptop  1.959459       500.0  2024-04-29 00:00:00   \n",
      "2         3       Charlie  Laptop  2.000000       250.0  2024-01-08 00:00:00   \n",
      "3         4           Eve  Laptop  2.000000       750.0  2024-01-07 00:00:00   \n",
      "4         5           Eve  Tablet  3.000000       500.0  2024-03-07 00:00:00   \n",
      "\n",
      "   total_price  \n",
      "0    979.72973  \n",
      "1    979.72973  \n",
      "2    500.00000  \n",
      "3   1500.00000  \n",
      "4   1500.00000  \n"
     ]
    }
   ],
   "source": [
    "# Transformation 2: Enrichment- Total Price Calculation\n",
    "transfromed_rfull_data['total_price'] = transfromed_rfull_data['quantity'] * transfromed_rfull_data['unit_price']\n",
    "print(\"Total price calculated and added to the dataset.\")\n",
    "\n",
    "# Transformation 3: Structural - Datetime Formatting\n",
    "transfromed_rfull_data['order_date'] = pd.to_datetime(transfromed_rfull_data['order_date'], format='mixed')\n",
    "transfromed_rfull_data['order_date'] = transfromed_rfull_data['order_date'].dt.strftime('%Y-%m-%d %H:%M:%S')\n",
    "\n",
    "# Transformation 4: Filtering - Drop Unnecessary Columns\n",
    "columns_to_drop = ['region']  # Example columns to drop\n",
    "transfromed_rfull_data.drop(columns=columns_to_drop, inplace=True, errors='ignore')  # Drop specified columns\n",
    "\n",
    "\n",
    "print(transfromed_rfull_data.head())"
   ]
  },
  {
   "cell_type": "code",
   "execution_count": 42,
   "id": "9333b005",
   "metadata": {},
   "outputs": [],
   "source": [
    "# save the transformed raw data\n",
    "transfromed_rfull_data.to_csv(r\"C:\\Users\\Makena\\OneDrive\\Desktop\\USIU\\2nd Summer sem\\DWM\\Mid Sem\\Transformed\\transformed_full.csv\", index=False)"
   ]
  },
  {
   "cell_type": "markdown",
   "id": "7001dc36",
   "metadata": {},
   "source": [
    "### Incremental transformation"
   ]
  },
  {
   "cell_type": "code",
   "execution_count": 49,
   "id": "f2818584",
   "metadata": {},
   "outputs": [
    {
     "name": "stdout",
     "output_type": "stream",
     "text": [
      "\n",
      "Missing Values in Raw Data:\n",
      "customer_name    6\n",
      "quantity         4\n",
      "region           2\n",
      "dtype: int64\n",
      "\n",
      "Duplicates in Raw Data:\n",
      "0\n",
      "\n",
      "Transformed Raw Data after handling missing values and duplicates:\n",
      "Total price calculated and added to the incremental dataset.\n",
      "   order_id product  quantity  unit_price           order_date   region  \\\n",
      "0       101  Laptop       1.5       900.0  2024-05-09 00:00:00  Central   \n",
      "1       102  Laptop       1.0       300.0  2024-05-07 00:00:00  Central   \n",
      "2       103  Laptop       1.0       600.0  2024-05-04 00:00:00  Central   \n",
      "3       104  Tablet       1.5       300.0  2024-05-26 00:00:00  Central   \n",
      "4       105  Tablet       2.0       600.0  2024-05-21 00:00:00    North   \n",
      "\n",
      "   total_price  \n",
      "0       1350.0  \n",
      "1        300.0  \n",
      "2        600.0  \n",
      "3        450.0  \n",
      "4       1200.0  \n"
     ]
    }
   ],
   "source": [
    "# Incremental transformation on incremental data\n",
    "transformed_incremental_data = incremental_data.copy()\n",
    "\n",
    "# Transform 1: Handle missing values and duplicates\n",
    "# checking for missing values\n",
    "missing_values = transformed_incremental_data.isnull().sum()\n",
    "print(\"\\nMissing Values in Raw Data:\")\n",
    "print(missing_values[missing_values > 0])\n",
    "\n",
    "# checking for duplicates\n",
    "duplicates = transformed_incremental_data.duplicated().sum()\n",
    "print(\"\\nDuplicates in Raw Data:\")\n",
    "print(duplicates)\n",
    "\n",
    "# fill missing values for categorical columns with 'Unknown'\n",
    "for col in ['customer_name', 'product', 'region']:\n",
    "\ttransformed_incremental_data[col].fillna('Unknown', inplace=True)\n",
    "\n",
    "# fill missing values for numerical columns with their mean\n",
    "for col in ['quantity', 'unit_price']:\n",
    "\ttransformed_incremental_data[col].fillna(transformed_incremental_data[col].mean(), inplace=True)\n",
    "\n",
    "# drop duplicates\n",
    "transformed_incremental_data.drop_duplicates(inplace=True)\n",
    "print(\"\\nTransformed Raw Data after handling missing values and duplicates:\")\n",
    "\n",
    "\n",
    "# Transformation 2: Enrichment - Total Price Calculation\n",
    "transformed_incremental_data['total_price'] = transformed_incremental_data['quantity'] * transformed_incremental_data['unit_price']\n",
    "print(\"Total price calculated and added to the incremental dataset.\")\n",
    "\n",
    "# Transformation 3: Structural - Datetime Formatting\n",
    "transformed_incremental_data['order_date'] = pd.to_datetime(transformed_incremental_data['order_date'], format='mixed')\n",
    "transformed_incremental_data['order_date'] = transformed_incremental_data['order_date'].dt.strftime('%Y-%m-%d %H:%M:%S')    \n",
    "\n",
    "# Transformation 4: Filtering - Drop Unnecessary Columns\n",
    "columns_to_drop = ['customer_name']  # Example columns to drop\n",
    "transformed_incremental_data.drop(columns=columns_to_drop, inplace=True, errors='ignore')\n",
    "\n",
    "print(transformed_incremental_data.head())"
   ]
  },
  {
   "cell_type": "code",
   "execution_count": 50,
   "id": "0bcb143a",
   "metadata": {},
   "outputs": [],
   "source": [
    "# save the transformed incremental data\n",
    "transformed_incremental_data.to_csv(r\"C:\\Users\\Makena\\OneDrive\\Desktop\\USIU\\2nd Summer sem\\DWM\\Mid Sem\\Transformed\\transformed_incremental.csv\", index=False)"
   ]
  }
 ],
 "metadata": {
  "kernelspec": {
   "display_name": "Python 3",
   "language": "python",
   "name": "python3"
  },
  "language_info": {
   "codemirror_mode": {
    "name": "ipython",
    "version": 3
   },
   "file_extension": ".py",
   "mimetype": "text/x-python",
   "name": "python",
   "nbconvert_exporter": "python",
   "pygments_lexer": "ipython3",
   "version": "3.11.4"
  }
 },
 "nbformat": 4,
 "nbformat_minor": 5
}
